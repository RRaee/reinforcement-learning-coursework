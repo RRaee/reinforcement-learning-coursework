{
  "nbformat": 4,
  "nbformat_minor": 0,
  "metadata": {
    "colab": {
      "name": "DQNTrading2.ipynb",
      "provenance": []
    },
    "kernelspec": {
      "name": "python3",
      "display_name": "Python 3"
    },
    "language_info": {
      "name": "python"
    },
    "accelerator": "GPU"
  },
  "cells": [
    {
      "cell_type": "code",
      "source": [
        "!pip install --upgrade xlrd"
      ],
      "metadata": {
        "colab": {
          "base_uri": "https://localhost:8080/"
        },
        "id": "_MX1sfD_m8be",
        "outputId": "f617e7a3-f4a0-4466-aa29-b6710ade33fb"
      },
      "execution_count": null,
      "outputs": [
        {
          "output_type": "stream",
          "name": "stdout",
          "text": [
            "Requirement already satisfied: xlrd in /usr/local/lib/python3.7/dist-packages (1.1.0)\n",
            "Collecting xlrd\n",
            "  Downloading xlrd-2.0.1-py2.py3-none-any.whl (96 kB)\n",
            "\u001b[K     |████████████████████████████████| 96 kB 3.4 MB/s \n",
            "\u001b[?25hInstalling collected packages: xlrd\n",
            "  Attempting uninstall: xlrd\n",
            "    Found existing installation: xlrd 1.1.0\n",
            "    Uninstalling xlrd-1.1.0:\n",
            "      Successfully uninstalled xlrd-1.1.0\n",
            "Successfully installed xlrd-2.0.1\n"
          ]
        }
      ]
    },
    {
      "cell_type": "code",
      "execution_count": null,
      "metadata": {
        "id": "3WV213fO4YPE"
      },
      "outputs": [],
      "source": [
        "import numpy as np\n",
        "from numpy.random import default_rng\n",
        "from sklearn.cluster import KMeans\n",
        "import matplotlib.pyplot as plt\n",
        "import math\n",
        "import numpy as np\n",
        "import random\n",
        "import pandas as pd\n",
        "from datetime import datetime\n",
        "import seaborn as sns\n",
        "import matplotlib.pyplot as plt\n",
        "from collections import namedtuple\n",
        "#DQN package\n",
        "#!pip install torch\n",
        "import torch\n",
        "import torch.nn as nn\n",
        "import torch.optim as optim\n",
        "import torch.nn.functional as F\n",
        "device = torch.device(\"cuda\" if torch.cuda.is_available() else \"cpu\")"
      ]
    },
    {
      "cell_type": "code",
      "source": [
        "device"
      ],
      "metadata": {
        "colab": {
          "base_uri": "https://localhost:8080/"
        },
        "id": "Z0PnzilszFK_",
        "outputId": "760734a9-ba86-4cc9-caa6-46f9db92ec63"
      },
      "execution_count": null,
      "outputs": [
        {
          "output_type": "execute_result",
          "data": {
            "text/plain": [
              "device(type='cuda')"
            ]
          },
          "metadata": {},
          "execution_count": 4
        }
      ]
    },
    {
      "cell_type": "code",
      "source": [
        "from google.colab import files\n",
        "uploaded = files.upload()"
      ],
      "metadata": {
        "colab": {
          "resources": {
            "http://localhost:8080/nbextensions/google.colab/files.js": {
              "data": "Ly8gQ29weXJpZ2h0IDIwMTcgR29vZ2xlIExMQwovLwovLyBMaWNlbnNlZCB1bmRlciB0aGUgQXBhY2hlIExpY2Vuc2UsIFZlcnNpb24gMi4wICh0aGUgIkxpY2Vuc2UiKTsKLy8geW91IG1heSBub3QgdXNlIHRoaXMgZmlsZSBleGNlcHQgaW4gY29tcGxpYW5jZSB3aXRoIHRoZSBMaWNlbnNlLgovLyBZb3UgbWF5IG9idGFpbiBhIGNvcHkgb2YgdGhlIExpY2Vuc2UgYXQKLy8KLy8gICAgICBodHRwOi8vd3d3LmFwYWNoZS5vcmcvbGljZW5zZXMvTElDRU5TRS0yLjAKLy8KLy8gVW5sZXNzIHJlcXVpcmVkIGJ5IGFwcGxpY2FibGUgbGF3IG9yIGFncmVlZCB0byBpbiB3cml0aW5nLCBzb2Z0d2FyZQovLyBkaXN0cmlidXRlZCB1bmRlciB0aGUgTGljZW5zZSBpcyBkaXN0cmlidXRlZCBvbiBhbiAiQVMgSVMiIEJBU0lTLAovLyBXSVRIT1VUIFdBUlJBTlRJRVMgT1IgQ09ORElUSU9OUyBPRiBBTlkgS0lORCwgZWl0aGVyIGV4cHJlc3Mgb3IgaW1wbGllZC4KLy8gU2VlIHRoZSBMaWNlbnNlIGZvciB0aGUgc3BlY2lmaWMgbGFuZ3VhZ2UgZ292ZXJuaW5nIHBlcm1pc3Npb25zIGFuZAovLyBsaW1pdGF0aW9ucyB1bmRlciB0aGUgTGljZW5zZS4KCi8qKgogKiBAZmlsZW92ZXJ2aWV3IEhlbHBlcnMgZm9yIGdvb2dsZS5jb2xhYiBQeXRob24gbW9kdWxlLgogKi8KKGZ1bmN0aW9uKHNjb3BlKSB7CmZ1bmN0aW9uIHNwYW4odGV4dCwgc3R5bGVBdHRyaWJ1dGVzID0ge30pIHsKICBjb25zdCBlbGVtZW50ID0gZG9jdW1lbnQuY3JlYXRlRWxlbWVudCgnc3BhbicpOwogIGVsZW1lbnQudGV4dENvbnRlbnQgPSB0ZXh0OwogIGZvciAoY29uc3Qga2V5IG9mIE9iamVjdC5rZXlzKHN0eWxlQXR0cmlidXRlcykpIHsKICAgIGVsZW1lbnQuc3R5bGVba2V5XSA9IHN0eWxlQXR0cmlidXRlc1trZXldOwogIH0KICByZXR1cm4gZWxlbWVudDsKfQoKLy8gTWF4IG51bWJlciBvZiBieXRlcyB3aGljaCB3aWxsIGJlIHVwbG9hZGVkIGF0IGEgdGltZS4KY29uc3QgTUFYX1BBWUxPQURfU0laRSA9IDEwMCAqIDEwMjQ7CgpmdW5jdGlvbiBfdXBsb2FkRmlsZXMoaW5wdXRJZCwgb3V0cHV0SWQpIHsKICBjb25zdCBzdGVwcyA9IHVwbG9hZEZpbGVzU3RlcChpbnB1dElkLCBvdXRwdXRJZCk7CiAgY29uc3Qgb3V0cHV0RWxlbWVudCA9IGRvY3VtZW50LmdldEVsZW1lbnRCeUlkKG91dHB1dElkKTsKICAvLyBDYWNoZSBzdGVwcyBvbiB0aGUgb3V0cHV0RWxlbWVudCB0byBtYWtlIGl0IGF2YWlsYWJsZSBmb3IgdGhlIG5leHQgY2FsbAogIC8vIHRvIHVwbG9hZEZpbGVzQ29udGludWUgZnJvbSBQeXRob24uCiAgb3V0cHV0RWxlbWVudC5zdGVwcyA9IHN0ZXBzOwoKICByZXR1cm4gX3VwbG9hZEZpbGVzQ29udGludWUob3V0cHV0SWQpOwp9CgovLyBUaGlzIGlzIHJvdWdobHkgYW4gYXN5bmMgZ2VuZXJhdG9yIChub3Qgc3VwcG9ydGVkIGluIHRoZSBicm93c2VyIHlldCksCi8vIHdoZXJlIHRoZXJlIGFyZSBtdWx0aXBsZSBhc3luY2hyb25vdXMgc3RlcHMgYW5kIHRoZSBQeXRob24gc2lkZSBpcyBnb2luZwovLyB0byBwb2xsIGZvciBjb21wbGV0aW9uIG9mIGVhY2ggc3RlcC4KLy8gVGhpcyB1c2VzIGEgUHJvbWlzZSB0byBibG9jayB0aGUgcHl0aG9uIHNpZGUgb24gY29tcGxldGlvbiBvZiBlYWNoIHN0ZXAsCi8vIHRoZW4gcGFzc2VzIHRoZSByZXN1bHQgb2YgdGhlIHByZXZpb3VzIHN0ZXAgYXMgdGhlIGlucHV0IHRvIHRoZSBuZXh0IHN0ZXAuCmZ1bmN0aW9uIF91cGxvYWRGaWxlc0NvbnRpbnVlKG91dHB1dElkKSB7CiAgY29uc3Qgb3V0cHV0RWxlbWVudCA9IGRvY3VtZW50LmdldEVsZW1lbnRCeUlkKG91dHB1dElkKTsKICBjb25zdCBzdGVwcyA9IG91dHB1dEVsZW1lbnQuc3RlcHM7CgogIGNvbnN0IG5leHQgPSBzdGVwcy5uZXh0KG91dHB1dEVsZW1lbnQubGFzdFByb21pc2VWYWx1ZSk7CiAgcmV0dXJuIFByb21pc2UucmVzb2x2ZShuZXh0LnZhbHVlLnByb21pc2UpLnRoZW4oKHZhbHVlKSA9PiB7CiAgICAvLyBDYWNoZSB0aGUgbGFzdCBwcm9taXNlIHZhbHVlIHRvIG1ha2UgaXQgYXZhaWxhYmxlIHRvIHRoZSBuZXh0CiAgICAvLyBzdGVwIG9mIHRoZSBnZW5lcmF0b3IuCiAgICBvdXRwdXRFbGVtZW50Lmxhc3RQcm9taXNlVmFsdWUgPSB2YWx1ZTsKICAgIHJldHVybiBuZXh0LnZhbHVlLnJlc3BvbnNlOwogIH0pOwp9CgovKioKICogR2VuZXJhdG9yIGZ1bmN0aW9uIHdoaWNoIGlzIGNhbGxlZCBiZXR3ZWVuIGVhY2ggYXN5bmMgc3RlcCBvZiB0aGUgdXBsb2FkCiAqIHByb2Nlc3MuCiAqIEBwYXJhbSB7c3RyaW5nfSBpbnB1dElkIEVsZW1lbnQgSUQgb2YgdGhlIGlucHV0IGZpbGUgcGlja2VyIGVsZW1lbnQuCiAqIEBwYXJhbSB7c3RyaW5nfSBvdXRwdXRJZCBFbGVtZW50IElEIG9mIHRoZSBvdXRwdXQgZGlzcGxheS4KICogQHJldHVybiB7IUl0ZXJhYmxlPCFPYmplY3Q+fSBJdGVyYWJsZSBvZiBuZXh0IHN0ZXBzLgogKi8KZnVuY3Rpb24qIHVwbG9hZEZpbGVzU3RlcChpbnB1dElkLCBvdXRwdXRJZCkgewogIGNvbnN0IGlucHV0RWxlbWVudCA9IGRvY3VtZW50LmdldEVsZW1lbnRCeUlkKGlucHV0SWQpOwogIGlucHV0RWxlbWVudC5kaXNhYmxlZCA9IGZhbHNlOwoKICBjb25zdCBvdXRwdXRFbGVtZW50ID0gZG9jdW1lbnQuZ2V0RWxlbWVudEJ5SWQob3V0cHV0SWQpOwogIG91dHB1dEVsZW1lbnQuaW5uZXJIVE1MID0gJyc7CgogIGNvbnN0IHBpY2tlZFByb21pc2UgPSBuZXcgUHJvbWlzZSgocmVzb2x2ZSkgPT4gewogICAgaW5wdXRFbGVtZW50LmFkZEV2ZW50TGlzdGVuZXIoJ2NoYW5nZScsIChlKSA9PiB7CiAgICAgIHJlc29sdmUoZS50YXJnZXQuZmlsZXMpOwogICAgfSk7CiAgfSk7CgogIGNvbnN0IGNhbmNlbCA9IGRvY3VtZW50LmNyZWF0ZUVsZW1lbnQoJ2J1dHRvbicpOwogIGlucHV0RWxlbWVudC5wYXJlbnRFbGVtZW50LmFwcGVuZENoaWxkKGNhbmNlbCk7CiAgY2FuY2VsLnRleHRDb250ZW50ID0gJ0NhbmNlbCB1cGxvYWQnOwogIGNvbnN0IGNhbmNlbFByb21pc2UgPSBuZXcgUHJvbWlzZSgocmVzb2x2ZSkgPT4gewogICAgY2FuY2VsLm9uY2xpY2sgPSAoKSA9PiB7CiAgICAgIHJlc29sdmUobnVsbCk7CiAgICB9OwogIH0pOwoKICAvLyBXYWl0IGZvciB0aGUgdXNlciB0byBwaWNrIHRoZSBmaWxlcy4KICBjb25zdCBmaWxlcyA9IHlpZWxkIHsKICAgIHByb21pc2U6IFByb21pc2UucmFjZShbcGlja2VkUHJvbWlzZSwgY2FuY2VsUHJvbWlzZV0pLAogICAgcmVzcG9uc2U6IHsKICAgICAgYWN0aW9uOiAnc3RhcnRpbmcnLAogICAgfQogIH07CgogIGNhbmNlbC5yZW1vdmUoKTsKCiAgLy8gRGlzYWJsZSB0aGUgaW5wdXQgZWxlbWVudCBzaW5jZSBmdXJ0aGVyIHBpY2tzIGFyZSBub3QgYWxsb3dlZC4KICBpbnB1dEVsZW1lbnQuZGlzYWJsZWQgPSB0cnVlOwoKICBpZiAoIWZpbGVzKSB7CiAgICByZXR1cm4gewogICAgICByZXNwb25zZTogewogICAgICAgIGFjdGlvbjogJ2NvbXBsZXRlJywKICAgICAgfQogICAgfTsKICB9CgogIGZvciAoY29uc3QgZmlsZSBvZiBmaWxlcykgewogICAgY29uc3QgbGkgPSBkb2N1bWVudC5jcmVhdGVFbGVtZW50KCdsaScpOwogICAgbGkuYXBwZW5kKHNwYW4oZmlsZS5uYW1lLCB7Zm9udFdlaWdodDogJ2JvbGQnfSkpOwogICAgbGkuYXBwZW5kKHNwYW4oCiAgICAgICAgYCgke2ZpbGUudHlwZSB8fCAnbi9hJ30pIC0gJHtmaWxlLnNpemV9IGJ5dGVzLCBgICsKICAgICAgICBgbGFzdCBtb2RpZmllZDogJHsKICAgICAgICAgICAgZmlsZS5sYXN0TW9kaWZpZWREYXRlID8gZmlsZS5sYXN0TW9kaWZpZWREYXRlLnRvTG9jYWxlRGF0ZVN0cmluZygpIDoKICAgICAgICAgICAgICAgICAgICAgICAgICAgICAgICAgICAgJ24vYSd9IC0gYCkpOwogICAgY29uc3QgcGVyY2VudCA9IHNwYW4oJzAlIGRvbmUnKTsKICAgIGxpLmFwcGVuZENoaWxkKHBlcmNlbnQpOwoKICAgIG91dHB1dEVsZW1lbnQuYXBwZW5kQ2hpbGQobGkpOwoKICAgIGNvbnN0IGZpbGVEYXRhUHJvbWlzZSA9IG5ldyBQcm9taXNlKChyZXNvbHZlKSA9PiB7CiAgICAgIGNvbnN0IHJlYWRlciA9IG5ldyBGaWxlUmVhZGVyKCk7CiAgICAgIHJlYWRlci5vbmxvYWQgPSAoZSkgPT4gewogICAgICAgIHJlc29sdmUoZS50YXJnZXQucmVzdWx0KTsKICAgICAgfTsKICAgICAgcmVhZGVyLnJlYWRBc0FycmF5QnVmZmVyKGZpbGUpOwogICAgfSk7CiAgICAvLyBXYWl0IGZvciB0aGUgZGF0YSB0byBiZSByZWFkeS4KICAgIGxldCBmaWxlRGF0YSA9IHlpZWxkIHsKICAgICAgcHJvbWlzZTogZmlsZURhdGFQcm9taXNlLAogICAgICByZXNwb25zZTogewogICAgICAgIGFjdGlvbjogJ2NvbnRpbnVlJywKICAgICAgfQogICAgfTsKCiAgICAvLyBVc2UgYSBjaHVua2VkIHNlbmRpbmcgdG8gYXZvaWQgbWVzc2FnZSBzaXplIGxpbWl0cy4gU2VlIGIvNjIxMTU2NjAuCiAgICBsZXQgcG9zaXRpb24gPSAwOwogICAgZG8gewogICAgICBjb25zdCBsZW5ndGggPSBNYXRoLm1pbihmaWxlRGF0YS5ieXRlTGVuZ3RoIC0gcG9zaXRpb24sIE1BWF9QQVlMT0FEX1NJWkUpOwogICAgICBjb25zdCBjaHVuayA9IG5ldyBVaW50OEFycmF5KGZpbGVEYXRhLCBwb3NpdGlvbiwgbGVuZ3RoKTsKICAgICAgcG9zaXRpb24gKz0gbGVuZ3RoOwoKICAgICAgY29uc3QgYmFzZTY0ID0gYnRvYShTdHJpbmcuZnJvbUNoYXJDb2RlLmFwcGx5KG51bGwsIGNodW5rKSk7CiAgICAgIHlpZWxkIHsKICAgICAgICByZXNwb25zZTogewogICAgICAgICAgYWN0aW9uOiAnYXBwZW5kJywKICAgICAgICAgIGZpbGU6IGZpbGUubmFtZSwKICAgICAgICAgIGRhdGE6IGJhc2U2NCwKICAgICAgICB9LAogICAgICB9OwoKICAgICAgbGV0IHBlcmNlbnREb25lID0gZmlsZURhdGEuYnl0ZUxlbmd0aCA9PT0gMCA/CiAgICAgICAgICAxMDAgOgogICAgICAgICAgTWF0aC5yb3VuZCgocG9zaXRpb24gLyBmaWxlRGF0YS5ieXRlTGVuZ3RoKSAqIDEwMCk7CiAgICAgIHBlcmNlbnQudGV4dENvbnRlbnQgPSBgJHtwZXJjZW50RG9uZX0lIGRvbmVgOwoKICAgIH0gd2hpbGUgKHBvc2l0aW9uIDwgZmlsZURhdGEuYnl0ZUxlbmd0aCk7CiAgfQoKICAvLyBBbGwgZG9uZS4KICB5aWVsZCB7CiAgICByZXNwb25zZTogewogICAgICBhY3Rpb246ICdjb21wbGV0ZScsCiAgICB9CiAgfTsKfQoKc2NvcGUuZ29vZ2xlID0gc2NvcGUuZ29vZ2xlIHx8IHt9OwpzY29wZS5nb29nbGUuY29sYWIgPSBzY29wZS5nb29nbGUuY29sYWIgfHwge307CnNjb3BlLmdvb2dsZS5jb2xhYi5fZmlsZXMgPSB7CiAgX3VwbG9hZEZpbGVzLAogIF91cGxvYWRGaWxlc0NvbnRpbnVlLAp9Owp9KShzZWxmKTsK",
              "ok": true,
              "headers": [
                [
                  "content-type",
                  "application/javascript"
                ]
              ],
              "status": 200,
              "status_text": ""
            }
          },
          "base_uri": "https://localhost:8080/",
          "height": 72
        },
        "id": "6fxvKFIJmlPY",
        "outputId": "76354450-219d-4247-ecdf-f9b7e45103e0"
      },
      "execution_count": null,
      "outputs": [
        {
          "output_type": "display_data",
          "data": {
            "text/plain": [
              "<IPython.core.display.HTML object>"
            ],
            "text/html": [
              "\n",
              "     <input type=\"file\" id=\"files-cc28d6b2-adeb-4267-858a-c4fee29290f1\" name=\"files[]\" multiple disabled\n",
              "        style=\"border:none\" />\n",
              "     <output id=\"result-cc28d6b2-adeb-4267-858a-c4fee29290f1\">\n",
              "      Upload widget is only available when the cell has been executed in the\n",
              "      current browser session. Please rerun this cell to enable.\n",
              "      </output>\n",
              "      <script src=\"/nbextensions/google.colab/files.js\"></script> "
            ]
          },
          "metadata": {}
        },
        {
          "output_type": "stream",
          "name": "stdout",
          "text": [
            "Saving Quantitative Trading2.xls to Quantitative Trading2.xls\n"
          ]
        }
      ]
    },
    {
      "cell_type": "markdown",
      "source": [
        "# Helper Functions"
      ],
      "metadata": {
        "id": "RFEqIDIiEVz4"
      }
    },
    {
      "cell_type": "code",
      "source": [
        "class DQN(nn.Module):\n",
        "\n",
        "    def __init__(self, input_size, size_hidden, output_size, typedqn = 'Dqn'):\n",
        "        \n",
        "        super().__init__()\n",
        "        self.typedqn = typedqn\n",
        "        self.fc1 = nn.Linear(input_size, size_hidden)\n",
        "        self.bn1 = nn.BatchNorm1d(size_hidden)\n",
        "        \n",
        "        self.fc2 = nn.Linear(size_hidden, size_hidden)   \n",
        "        self.bn2 = nn.BatchNorm1d(size_hidden)\n",
        "\n",
        "        self.fc3 = nn.Linear(size_hidden, size_hidden)  \n",
        "        self.bn3 = nn.BatchNorm1d(size_hidden)\n",
        "        \n",
        "        if self.typedqn == 'Duelling':\n",
        "            print('Duelling Activated')\n",
        "            self.Value = nn.Linear(size_hidden, 1)\n",
        "            self.Advantage = nn.Linear(size_hidden, output_size)\n",
        "        if typedqn == 'Dqn':\n",
        "            print('Dqn')\n",
        "            self.fc4 = nn.Linear(size_hidden, output_size)\n",
        "        \n",
        "        \n",
        "    def forward(self, x):\n",
        "        h1 = F.relu(self.bn1(self.fc1(x.float())))\n",
        "        h2 = F.relu(self.bn2(self.fc2(h1)))\n",
        "        h3 = F.relu(self.bn3(self.fc3(h2)))\n",
        "       \n",
        "        if self.typedqn == 'Dqn':\n",
        "            output = self.fc4(h3.view(h3.size(0), -1))\n",
        "            return output\n",
        "        \n",
        "        if self.typedqn == 'Duelling':\n",
        "                \n",
        "            value = self.Value(h3.view(h3.size(0), -1))\n",
        "            advantage = self.Advantage(h3.view(h3.size(0), -1))\n",
        "            \n",
        "            return value + advantage - advantage.mean()\n",
        "            "
      ],
      "metadata": {
        "id": "U9AYhl-OE1ux"
      },
      "execution_count": null,
      "outputs": []
    },
    {
      "cell_type": "code",
      "source": [
        "class E_Greedy_Policy():\n",
        "    \n",
        "    def __init__(self, epsilon, decay, min_epsilon):\n",
        "        \n",
        "        self.epsilon = epsilon\n",
        "        self.epsilon_start = epsilon\n",
        "        self.decay = decay\n",
        "        self.epsilon_min = min_epsilon\n",
        "                \n",
        "    def __call__(self, state):\n",
        "                \n",
        "        is_greedy = random.random() > self.epsilon\n",
        "        \n",
        "        if is_greedy :\n",
        "            # we select greedy action\n",
        "            with torch.no_grad():\n",
        "                Q_network.eval()\n",
        "                # index of the maximum over dimension 1.\n",
        "                index_action = Q_network(state).max(1)[1].view(1, 1).cpu()[0][0].item()\n",
        "                Q_network.train()\n",
        "        else:\n",
        "            # we sample a random action\n",
        "            index_action = random.randint(0,2) # will randomely choose a number within [0,1,2] aka [buy, sell, hold] \n",
        "        \n",
        "        return index_action\n",
        "                \n",
        "    def update_epsilon(self):\n",
        "        \n",
        "        self.epsilon = self.epsilon*self.decay\n",
        "        if self.epsilon < self.epsilon_min:\n",
        "            self.epsilon = self.epsilon_min\n",
        "        \n",
        "    def reset(self):\n",
        "        self.epsilon = self.epsilon_start"
      ],
      "metadata": {
        "id": "Nn4HsRzGEVMZ"
      },
      "execution_count": null,
      "outputs": []
    },
    {
      "cell_type": "code",
      "source": [
        "class ReplayMemory:\n",
        "\n",
        "    def __init__(self, capacity):\n",
        "        self.capacity = capacity\n",
        "        self.memory = []\n",
        "        self.position = 0\n",
        "    #just add to memory state,action, state+1,reward in a tensor \n",
        "    def push(self, state, action, next_state, reward):\n",
        "        \"\"\"Saves a transition.\"\"\"\n",
        "        if len(self.memory) < self.capacity:\n",
        "            self.memory.append(None)\n",
        "        \n",
        "            \n",
        "        action_tensor = torch.tensor([action], device=device).unsqueeze(0)\n",
        "\n",
        "        reward = torch.tensor([reward], device=device).unsqueeze(0)/10. # reward scaling\n",
        "\n",
        "        self.memory[self.position] = Transition(state, action_tensor, next_state, reward)\n",
        "        self.position = (self.position + 1) % self.capacity\n",
        "    \n",
        "    #might need changing\n",
        "    def sample(self, batch_size):\n",
        "        return random.sample(self.memory, batch_size)\n",
        "\n",
        "    def __len__(self):\n",
        "        return len(self.memory)"
      ],
      "metadata": {
        "id": "c-YpvkU7EwqT"
      },
      "execution_count": null,
      "outputs": []
    },
    {
      "cell_type": "code",
      "source": [
        "def optimize_model(doubledqn = False):\n",
        "    \n",
        "    transitions = memory.sample(BATCH_SIZE)\n",
        "    batch = Transition(*zip(*transitions))\n",
        "\n",
        "    # Compute a mask of non-final states and concatenate the batch elements\n",
        "    non_final_mask = torch.tensor(tuple(map(lambda s: s is not None,\n",
        "                                          batch.next_state)), device=device, dtype=torch.bool)\n",
        "    non_final_next_states = torch.cat([s for s in batch.next_state\n",
        "                                                if s is not None])\n",
        "    \n",
        "    state_batch = torch.cat(batch.state)\n",
        "\n",
        "    action_batch = torch.cat(batch.action)\n",
        "    reward_batch = torch.cat(batch.reward)\n",
        "    \n",
        "    # Compute Q values using policy net \n",
        "    Q_values = Q_network(state_batch).gather(1, action_batch)\n",
        "\n",
        "    # Compute next Q values using Q_targets\n",
        "    next_Q_values = torch.zeros( BATCH_SIZE, device=device)\n",
        "    if doubledqn == False : \n",
        "      # Compute next Q values using Q_targets\n",
        "      next_Q_values[non_final_mask] = Q_target(non_final_next_states).max(1)[0].detach()\n",
        "      next_Q_values = next_Q_values.unsqueeze(1)\n",
        "    else:\n",
        "\n",
        "      Qaction = Q_network(non_final_next_states).max(1)[1].detach()\n",
        "      next_Q_values = Q_target(non_final_next_states)[Qaction].unsqueeze(1)\n",
        "      #ComputeTarget  \n",
        "    target_Q_values = (next_Q_values * GAMMA) + reward_batch\n",
        "    loss = F.mse_loss(Q_values, target_Q_values) \n",
        "    # Optimize the model\n",
        "    optimizer.zero_grad()\n",
        "    loss.backward()\n",
        "    \n",
        "    # Trick: gradient clipping\n",
        "    for param in Q_network.parameters():\n",
        "        param.grad.data.clamp_(-1, 1)\n",
        "        \n",
        "    optimizer.step()\n",
        "\n",
        "\n",
        "    \n",
        "    return loss"
      ],
      "metadata": {
        "id": "JJoAUooRFFso"
      },
      "execution_count": null,
      "outputs": []
    },
    {
      "cell_type": "markdown",
      "source": [
        "# Environment "
      ],
      "metadata": {
        "id": "wdBfmExHFUGM"
      }
    },
    {
      "cell_type": "markdown",
      "source": [
        "### define class"
      ],
      "metadata": {
        "id": "Id7kZx4KlBWO"
      }
    },
    {
      "cell_type": "code",
      "source": [
        "class StockTradingEnv:\n",
        "    \"\"\"\n",
        "        Specifying the action and observation componenets that would help the agent to learn and move though the environment\n",
        "        \n",
        "    \"\"\"\n",
        "    def __init__(self,\n",
        "               fee=0.1,\n",
        "               starting_date=\"2015-01-24\",\n",
        "               max_training_date = '2020-12-31',\n",
        "               inital_cash_balance = 50000,\n",
        "               initial_number_shares = 10):\n",
        "        \n",
        "        # Defining the parameters specific to the environment\n",
        "        self.df = pd.read_excel(\"Quantitative Trading2.xls\", sheet_name='SPY (1)')\n",
        "        self.action_list = ['Buy','Sell','Hold']\n",
        "        self.feature_list = ['Daily Close Returns ', 'Open','High','Low', 'WR(6)', 'WR(12)', 'RSI(14)']\n",
        "        self.feature_list_normalisation = ['Open','High','Low']\n",
        "        self.normalizefeature = 'Close'\n",
        "        #setup\n",
        "        self.fee = fee #Stock trading commission fee per trade\n",
        "        self.start_date = starting_date\n",
        "        self.current_step = 0\n",
        "        self.eventlog = [] #eventlog to keep track \n",
        "        self.max_training_date = max_training_date\n",
        "\n",
        "        #used to calculate portfoliovalue\n",
        "        self.initial_number_shares = initial_number_shares\n",
        "        self.inital_cash_balance = inital_cash_balance\n",
        "        self.cash_balance = inital_cash_balance\n",
        "        self.number_shares = initial_number_shares\n",
        "        self.inventory =[]\n",
        "        \n",
        "        #Preprocessing\n",
        "        self.df = self.df[self.df['Date']>=datetime.strptime(self.start_date, '%Y-%m-%d')].reset_index(drop = True)\n",
        "\n",
        "        self.training_data = self.df[self.df['Date']<datetime.strptime(self.max_training_date, '%Y-%m-%d')]\n",
        "        for f in self.feature_list_normalisation:\n",
        "          self.training_data[f] = self.training_data[f]/self.training_data[self.normalizefeature]\n",
        "        \n",
        "        self.start_date = self.df['Date'].min()\n",
        "        self.start_price = self.df[self.df['Date']==self.start_date]['Close'].values[0]\n",
        "\n",
        "\n",
        "        self.initial_value = self.cash_balance + self.number_shares* self.start_price # define initial stock price\n",
        "        self.wallet = [self.initial_value]\n",
        "        self.inventory = [self.start_price]*self.number_shares\n",
        "        \n",
        "        #self.training_data,self.observations, self.states, self.transition_matrix, self.reward_matrix = self.qlearning_preprocessing()\n",
        "        #data preprocessing\n",
        "        \n",
        "    def get_state(self,step):\n",
        "      analytic = np.array(self.training_data[self.feature_list].iloc[step])\n",
        "      portfolio = np.array([self.number_shares,self.cash_balance])\n",
        "      state_tensor = np.concatenate((analytic,portfolio))\n",
        "      state_tensor = torch.tensor(state_tensor, device=device).unsqueeze(0)  \n",
        "      return state_tensor   \n",
        "\n",
        "    \n",
        "    def step(self,action):\n",
        "        \"\"\"\n",
        "        Move the step and recalculate portfolio Value \n",
        "        \"\"\"\n",
        "        \n",
        "        #Check the line below\n",
        "        current_price = self.df.iloc[self.current_step]['Close']\n",
        "        reward = 0 \n",
        "        ## Add condition if buy but enough cash -> hold (bump example) and similarly if sell but no more share -> hold\n",
        "        if action == 'Buy':\n",
        "            if current_price < self.cash_balance:\n",
        "              self.number_shares +=1\n",
        "              self.cash_balance = self.cash_balance -self.fee - current_price\n",
        "              self.wallet.append(self.cash_balance + self.number_shares* current_price)\n",
        "              self.inventory.append(current_price)\n",
        "            \n",
        "        if action == 'Sell':\n",
        "            if self.number_shares >0 :\n",
        "                self.number_shares -=1\n",
        "                self.cash_balance = self.cash_balance -self.fee + current_price\n",
        "                self.wallet.append(self.cash_balance + self.number_shares* current_price)\n",
        "                bought_price = self.inventory.pop(0)\n",
        "                reward = max(((current_price - bought_price )/bought_price), 0)\n",
        "    \n",
        "            #penalty to sell when no position held \n",
        "            else:\n",
        "               reward = -0.001\n",
        "\n",
        "        \n",
        "        if action == 'Hold': \n",
        "            self.wallet.append(self.cash_balance + self.number_shares* current_price)\n",
        "\n",
        "\n",
        "        \n",
        "        #create pandas or array of array which will include = step, action, state, wallet value, reward.     \n",
        "        self.eventlog.append([self.current_step, self.number_shares,self.cash_balance,current_price,action])\n",
        "        self.current_step+=1\n",
        "        next_state = self.get_state(self.current_step)\n",
        "        return next_state, reward\n",
        "        \n",
        "    def display(self):\n",
        "        print ('Portfolio contains :' + str(self.number_shares ))\n",
        "        print ('Initial Portfolio Value was : '+ str(self.initial_value))\n",
        "        print (self.wallet)\n",
        "\n",
        "        print ('inventory')\n",
        "        print(*self.inventory, sep = \", \") \n",
        "\n",
        "    def reset(self):\n",
        "        self.current_step = 0\n",
        "        self.cash_balance = self.inital_cash_balance\n",
        "        self.number_shares = self.initial_number_shares\n",
        "        self.inventory =[self.start_price]*self.number_shares\n",
        "        self.eventlog = []"
      ],
      "metadata": {
        "id": "f0cKu-n13f9Z"
      },
      "execution_count": null,
      "outputs": []
    },
    {
      "cell_type": "markdown",
      "source": [
        "### set up enviroment"
      ],
      "metadata": {
        "id": "3c0wFtVhk3dW"
      }
    },
    {
      "cell_type": "code",
      "source": [
        "trading = StockTradingEnv(starting_date=\"2015-01-24\",max_training_date = '2020-12-31')"
      ],
      "metadata": {
        "id": "d7FVRBZ-k2VF"
      },
      "execution_count": null,
      "outputs": []
    },
    {
      "cell_type": "code",
      "source": [
        "trading.display()"
      ],
      "metadata": {
        "id": "VlIiubxtnS1A",
        "colab": {
          "base_uri": "https://localhost:8080/"
        },
        "outputId": "3e200c98-8807-4a9d-df3e-fa3a011b3db8"
      },
      "execution_count": null,
      "outputs": [
        {
          "output_type": "stream",
          "name": "stdout",
          "text": [
            "Portfolio contains :10\n",
            "Initial Portfolio Value was : 52054.49997\n",
            "[52054.49997]\n",
            "inventory\n",
            "205.449997, 205.449997, 205.449997, 205.449997, 205.449997, 205.449997, 205.449997, 205.449997, 205.449997, 205.449997\n"
          ]
        }
      ]
    },
    {
      "cell_type": "code",
      "source": [
        "Transition = namedtuple('Transition', ('state', 'action', 'next_state', 'reward'))\n",
        "policy = E_Greedy_Policy(0.99, decay=0.997, min_epsilon=0.001)\n",
        "\n",
        "OBS_SIZE = len(trading.feature_list)+2\n",
        "HIDDEN_SIZE = 6  # mean of the output/input layer\n",
        "ACTION_SIZE = 3\n",
        "num_episodes = 1000\n",
        "memory = ReplayMemory(250)#increase memory to try to avoid sampling from the same data and overfitting to test \n",
        "policy.reset()\n",
        "BATCH_SIZE = 32\n",
        "GAMMA = 0.7 # preference for long term reward\n",
        "rewards_history = []\n",
        "loss_history = []\n",
        "\n",
        "doubledqn = True\n",
        "duelingdqn = False\n",
        "\n",
        "if duelingdqn == True:\n",
        "  typeddqn = 'Duelling'\n",
        "else:\n",
        "  typeddqn = 'Dqn'\n",
        "\n",
        "Q_network = DQN(OBS_SIZE, HIDDEN_SIZE, ACTION_SIZE,typedqn = typeddqn).to(device)\n",
        "Q_target = DQN(OBS_SIZE, HIDDEN_SIZE, ACTION_SIZE,typedqn = typeddqn).to(device)\n",
        "Q_target.load_state_dict(Q_network.state_dict())\n",
        "Q_target.eval()\n",
        "\n",
        "TARGET_UPDATE = 10\n",
        "optimizer = optim.SGD(Q_network.parameters(), lr=0.01)\n"
      ],
      "metadata": {
        "id": "7KVmYYDVn1im",
        "colab": {
          "base_uri": "https://localhost:8080/"
        },
        "outputId": "b6b5f980-dcd8-4810-8910-90f630e5d13b"
      },
      "execution_count": null,
      "outputs": [
        {
          "output_type": "stream",
          "name": "stdout",
          "text": [
            "Dqn\n",
            "Dqn\n"
          ]
        }
      ]
    },
    {
      "cell_type": "code",
      "source": [
        "\n",
        "\n",
        "#number of episode\n",
        "for i_episode in range(num_episodes):\n",
        "    state = trading.reset()\n",
        "    total_reward = 0\n",
        "    \n",
        "    #per episode - fill the memory with every state,i.e every day in our period\n",
        "    for i in  range(0,len(trading.training_data.index)-2) :\n",
        "\n",
        "        \n",
        "        # Get action and act in the world. Dirty way improve coding\n",
        "        state_tensor= trading.get_state(trading.current_step)\n",
        "        action = policy(state_tensor)\n",
        "        action_name = trading.action_list[action]\n",
        "\n",
        "        next_state, reward = trading.step(action_name)\n",
        "        \n",
        "\n",
        "        total_reward += float(reward)\n",
        "\n",
        "        # Store the transition in memory\n",
        "        memory.push(state_tensor, action, next_state, float(reward))\n",
        "        #BATCH_SIZE = min(BATCH_SIZE_initial,len(memory.memory))\n",
        "        # Perform one step of the optimization\n",
        "        if len(memory.memory)>BATCH_SIZE:\n",
        "            started_training = True\n",
        "            l = optimize_model(doubledqn)\n",
        "\n",
        "\n",
        "    policy.update_epsilon()\n",
        "    rewards_history.append( float(total_reward) )\n",
        "    loss_history.append(l.detach().cpu())\n",
        "\n",
        "\n",
        " \n",
        "\n",
        "    # Update the target network, copying all weights and biases in DQN\n",
        "    if i_episode % TARGET_UPDATE == 0:\n",
        "\n",
        "        Q_target.load_state_dict(Q_network.state_dict())\n",
        "    \n",
        "    if (i_episode) % 10 == 0:\n",
        "        \n",
        "        print('Episode ', i_episode, ': ', 'reward :',  total_reward, 'eps: ', \n",
        "              policy.epsilon, ' loss:', l.detach().cpu())   \n",
        "        print( sum(rewards_history[-10:])/10)    \n",
        "\n",
        "print('Complete')\n",
        "\n",
        "\n"
      ],
      "metadata": {
        "id": "9KKameiCoQSZ",
        "colab": {
          "base_uri": "https://localhost:8080/"
        },
        "outputId": "23033fd4-b75b-4d6d-abcd-aaecd07cad2c"
      },
      "execution_count": 54,
      "outputs": [
        {
          "metadata": {
            "tags": null
          },
          "name": "stderr",
          "output_type": "stream",
          "text": [
            "/usr/local/lib/python3.7/dist-packages/ipykernel_launcher.py:32: UserWarning: Using a target size (torch.Size([32, 32, 3])) that is different to the input size (torch.Size([32, 1])). This will likely lead to incorrect results due to broadcasting. Please ensure they have the same size.\n"
          ]
        },
        {
          "output_type": "stream",
          "name": "stdout",
          "text": [
            "Episode  0 :  reward : 18.682230801983106 eps:  0.98703  loss: tensor(7499.2109)\n",
            "1.8682230801983106\n",
            "Episode  10 :  reward : 10.091921488931657 eps:  0.9578156659018894  loss: tensor(0.0991)\n",
            "13.397120696176213\n",
            "Episode  20 :  reward : 7.071260993511062 eps:  0.9294660241807036  loss: tensor(0.0084)\n",
            "11.083428154234767\n",
            "Episode  30 :  reward : 6.221215631630003 eps:  0.9019554814785994  loss: tensor(0.0004)\n",
            "8.59070968308818\n",
            "Episode  40 :  reward : 10.582734708756336 eps:  0.8752592019556485  loss: tensor(0.0358)\n",
            "12.208835442757803\n",
            "Episode  50 :  reward : 16.168952544366377 eps:  0.8493530848686524  loss: tensor(0.0008)\n",
            "12.708342001112147\n",
            "Episode  60 :  reward : 13.176216999025836 eps:  0.8242137428135844  loss: tensor(0.0296)\n",
            "11.352757274181558\n",
            "Episode  70 :  reward : 3.2878783001867764 eps:  0.79981848061202  loss: tensor(0.0267)\n",
            "11.931924656405283\n",
            "Episode  80 :  reward : 9.209856978745416 eps:  0.776145274822487  loss: tensor(0.0005)\n",
            "9.92221068030933\n",
            "Episode  90 :  reward : 2.7323179000877564 eps:  0.7531727538582468  loss: tensor(2.2773e-05)\n",
            "3.669099149753979\n",
            "Episode  100 :  reward : 1.2229018515655412 eps:  0.7308801786935519  loss: tensor(1.5621e-07)\n",
            "1.7806455337797584\n",
            "Episode  110 :  reward : 1.3869453954906894 eps:  0.7092474241409645  loss: tensor(1.9535e-07)\n",
            "1.4610017535590492\n",
            "Episode  120 :  reward : 1.3703866289041715 eps:  0.688254960682834  loss: tensor(2.7313e-07)\n",
            "1.475596811082064\n",
            "Episode  130 :  reward : 1.7444949871829225 eps:  0.667883836840529  loss: tensor(1.7706e-07)\n",
            "1.342003710276432\n",
            "Episode  140 :  reward : 1.6069871453708098 eps:  0.6481156620655096  loss: tensor(6.1932e-08)\n",
            "1.1561816232444162\n",
            "Episode  150 :  reward : 0.7673780983649789 eps:  0.6289325901367944  loss: tensor(3.6228e-08)\n",
            "1.1571360030278415\n",
            "Episode  160 :  reward : 0.7963563872237165 eps:  0.61031730304983  loss: tensor(5.2113e-08)\n",
            "1.1047373197381738\n",
            "Episode  170 :  reward : 1.1521021243177378 eps:  0.5922529953822255  loss: tensor(1.4838e-07)\n",
            "1.0555320574095173\n",
            "Episode  180 :  reward : 0.8942014949959565 eps:  0.5747233591222303  loss: tensor(7.3973e-08)\n",
            "0.9485618193739368\n",
            "Episode  190 :  reward : 0.7614902087097148 eps:  0.5577125689462629  loss: tensor(7.7972e-08)\n",
            "0.936916187777918\n",
            "Episode  200 :  reward : 0.6108558554949427 eps:  0.5412052679321988  loss: tensor(3.7478e-07)\n",
            "0.8828534195887044\n",
            "Episode  210 :  reward : 1.2013600044940138 eps:  0.5251865536955204  loss: tensor(6.1625e-08)\n",
            "0.7908529815496396\n",
            "Episode  220 :  reward : 0.7635083271311173 eps:  0.5096419649358108  loss: tensor(1.0345e-07)\n",
            "0.7189682364296637\n",
            "Episode  230 :  reward : 0.5761046949477531 eps:  0.4945574683814483  loss: tensor(2.7371e-07)\n",
            "0.6724985299061924\n",
            "Episode  240 :  reward : 0.7598815231447277 eps:  0.4799194461207152  loss: tensor(1.6102e-07)\n",
            "0.6694930440092743\n",
            "Episode  250 :  reward : 0.6539945796089337 eps:  0.46571468330788196  loss: tensor(5.1986e-08)\n",
            "0.7082136077979477\n",
            "Episode  260 :  reward : 0.5196137256309733 eps:  0.4519303562331707  loss: tensor(1.8561e-08)\n",
            "0.5719432105423098\n",
            "Episode  270 :  reward : 0.5212923688962968 eps:  0.43855402074582583  loss: tensor(2.5718e-08)\n",
            "0.5531776156099715\n",
            "Episode  280 :  reward : 0.6299536930480565 eps:  0.4255736010198415  loss: tensor(1.3398e-07)\n",
            "0.5908264684214706\n",
            "Episode  290 :  reward : 0.4568653353346969 eps:  0.4129773786522035  loss: tensor(5.7610e-08)\n",
            "0.5474835317153861\n",
            "Episode  300 :  reward : 0.724478000228548 eps:  0.4007539820838039  loss: tensor(7.4623e-08)\n",
            "0.6231565134233007\n",
            "Episode  310 :  reward : 0.48873952698132084 eps:  0.38889237633347773  loss: tensor(1.6982e-07)\n",
            "0.5563581941122079\n",
            "Episode  320 :  reward : 0.4063709863835462 eps:  0.37738185303589367  loss: tensor(1.7014e-08)\n",
            "0.5309398552353597\n",
            "Episode  330 :  reward : 0.41523426175680733 eps:  0.3662120207743062  loss: tensor(4.6218e-08)\n",
            "0.48022335848852366\n",
            "Episode  340 :  reward : 0.5527575745150262 eps:  0.35537279569944036  loss: tensor(7.7191e-08)\n",
            "0.5330366272629485\n",
            "Episode  350 :  reward : 0.5281199966420863 eps:  0.3448543924260414  loss: tensor(1.4299e-07)\n",
            "0.5642732764569429\n",
            "Episode  360 :  reward : 0.3770649431052356 eps:  0.33464731519886964  loss: tensor(6.3955e-08)\n",
            "0.48393522548375517\n",
            "Episode  370 :  reward : 0.4892842323439436 eps:  0.32474234932016743  loss: tensor(8.1462e-08)\n",
            "0.47963392102444746\n",
            "Episode  380 :  reward : 0.38854592533844245 eps:  0.3151305528308563  loss: tensor(6.2116e-08)\n",
            "0.41772212657119157\n",
            "Episode  390 :  reward : 0.3824570621369908 eps:  0.30580324843795753  loss: tensor(1.0512e-07)\n",
            "0.4416766344120816\n",
            "Episode  400 :  reward : 0.4517849872325957 eps:  0.296752015680945  loss: tensor(2.2083e-08)\n",
            "0.4256455078634091\n",
            "Episode  410 :  reward : 0.5651816225153377 eps:  0.2879686833299618  loss: tensor(3.8079e-08)\n",
            "0.4422399945566659\n",
            "Episode  420 :  reward : 0.4839997128065774 eps:  0.2794453220090349  loss: tensor(7.5997e-08)\n",
            "0.4672289360961863\n",
            "Episode  430 :  reward : 0.44128120498716633 eps:  0.2711742370376297  loss: tensor(3.8878e-08)\n",
            "0.4048761347149\n",
            "Episode  440 :  reward : 0.3744601126413262 eps:  0.26314796148408265  loss: tensor(3.3555e-08)\n",
            "0.3548274034036977\n",
            "Episode  450 :  reward : 0.25186820981739716 eps:  0.25535924942463895  loss: tensor(2.3829e-08)\n",
            "0.36550196510971555\n",
            "Episode  460 :  reward : 0.3824528168878403 eps:  0.2478010694020113  loss: tensor(2.0879e-08)\n",
            "0.4030108529445339\n",
            "Episode  470 :  reward : 0.4915533734817623 eps:  0.24046659807755363  loss: tensor(2.7392e-08)\n",
            "0.34323848390748984\n",
            "Episode  480 :  reward : 0.22442269081185232 eps:  0.23334921407131903  loss: tensor(3.0276e-08)\n",
            "0.30660681036942744\n",
            "Episode  490 :  reward : 0.511055445607062 eps:  0.22644249198444116  loss: tensor(3.3631e-08)\n",
            "0.35568873358368347\n",
            "Episode  500 :  reward : 0.29495329006552307 eps:  0.21974019659844254  loss: tensor(3.7613e-08)\n",
            "0.3125046320273889\n",
            "Episode  510 :  reward : 0.4633938588974193 eps:  0.21323627724623298  loss: tensor(2.2762e-08)\n",
            "0.3896121536569686\n",
            "Episode  520 :  reward : 0.2077932331640847 eps:  0.20692486234971638  loss: tensor(2.0699e-08)\n",
            "0.2665973602829873\n",
            "Episode  530 :  reward : 0.3321398623433456 eps:  0.20080025411907482  loss: tensor(1.8014e-08)\n",
            "0.29003701890479994\n",
            "Episode  540 :  reward : 0.23536551181491575 eps:  0.19485692340894423  loss: tensor(6.2326e-09)\n",
            "0.2926897209513716\n",
            "Episode  550 :  reward : 0.10002607755857915 eps:  0.18908950472683844  loss: tensor(5.4518e-09)\n",
            "0.2452004925062039\n",
            "Episode  560 :  reward : 0.23951149001519573 eps:  0.1834927913893146  loss: tensor(2.9316e-08)\n",
            "0.31161183748474036\n",
            "Episode  570 :  reward : 0.18303456922601474 eps:  0.1780617308215078  loss: tensor(1.3404e-08)\n",
            "0.2278229299669235\n",
            "Episode  580 :  reward : 0.3434904009740406 eps:  0.17279141999579084  loss: tensor(5.3668e-08)\n",
            "0.3506411379833406\n",
            "Episode  590 :  reward : 0.20191331463308942 eps:  0.16767710100544203  loss: tensor(2.1753e-08)\n",
            "0.2087363880162112\n",
            "Episode  600 :  reward : 0.2254546979468896 eps:  0.16271415676932394  loss: tensor(1.4336e-08)\n",
            "0.24138671279701862\n",
            "Episode  610 :  reward : 0.5252382241868144 eps:  0.15789810686369657  loss: tensor(3.0759e-08)\n",
            "0.24248631942562052\n",
            "Episode  620 :  reward : 0.43120434058284646 eps:  0.1532246034774011  loss: tensor(4.0785e-08)\n",
            "0.31949130888770055\n",
            "Episode  630 :  reward : 0.15443893531162456 eps:  0.1486894274867632  loss: tensor(2.6731e-08)\n",
            "0.25713932914769416\n",
            "Episode  640 :  reward : 0.17096833085610486 eps:  0.1442884846466721  loss: tensor(5.5306e-08)\n",
            "0.22322747806977059\n",
            "Episode  650 :  reward : 0.18057291853353116 eps:  0.14001780189439708  loss: tensor(3.2261e-08)\n",
            "0.20163576417664175\n",
            "Episode  660 :  reward : 0.20555973416427675 eps:  0.13587352376280437  loss: tensor(1.0556e-07)\n",
            "0.1909641908145845\n",
            "Episode  670 :  reward : 0.2693247103015724 eps:  0.13185190889973625  loss: tensor(3.5847e-09)\n",
            "0.17475828345232644\n",
            "Episode  680 :  reward : 0.15981369765556427 eps:  0.12794932669041076  loss: tensor(1.1594e-08)\n",
            "0.19796344839207478\n",
            "Episode  690 :  reward : 0.1576429414176489 eps:  0.12416225397979205  loss: tensor(2.0902e-08)\n",
            "0.1876291431794134\n",
            "Episode  700 :  reward : 0.05888384063503748 eps:  0.12048727189197293  loss: tensor(7.5737e-09)\n",
            "0.12531682845140532\n",
            "Episode  710 :  reward : 0.14767563949712031 eps:  0.11692106274369779  loss: tensor(9.0491e-08)\n",
            "0.19505978601652785\n",
            "Episode  720 :  reward : 0.17859703036125446 eps:  0.11346040704924014  loss: tensor(1.5289e-08)\n",
            "0.19521323947633623\n",
            "Episode  730 :  reward : 0.1644056229313069 eps:  0.11010218061393003  loss: tensor(1.9440e-08)\n",
            "0.178467419124174\n",
            "Episode  740 :  reward : 0.149839778382346 eps:  0.10684335171370828  loss: tensor(2.4177e-08)\n",
            "0.18865481873371073\n",
            "Episode  750 :  reward : 1.1227283208132888 eps:  0.10368097835816062  loss: tensor(1.1262e-07)\n",
            "0.2842934632746931\n",
            "Episode  760 :  reward : 0.3576035294371286 eps:  0.10061220563456125  loss: tensor(1.6080e-07)\n",
            "0.43880250510896424\n",
            "Episode  770 :  reward : 0.10097284813790872 eps:  0.09763426313052807  loss: tensor(1.3167e-08)\n",
            "0.12701011350551591\n",
            "Episode  780 :  reward : 0.28038389733088714 eps:  0.09474446243296256  loss: tensor(4.7735e-08)\n",
            "0.4785442844661743\n",
            "Episode  790 :  reward : 0.08651567746451791 eps:  0.09194019470101675  loss: tensor(9.9685e-08)\n",
            "0.32819014125925594\n",
            "Episode  800 :  reward : 0.18126896632378411 eps:  0.08921892831089603  loss: tensor(6.5886e-08)\n",
            "0.1486744924434258\n",
            "Episode  810 :  reward : 0.13519147943951768 eps:  0.08657820657037152  loss: tensor(1.6600e-08)\n",
            "0.1825741452667745\n",
            "Episode  820 :  reward : 0.015799705158202698 eps:  0.08401564550093889  loss: tensor(8.0101e-09)\n",
            "0.13376541573643838\n",
            "Episode  830 :  reward : 0.34484759291600137 eps:  0.08152893168562139  loss: tensor(1.2538e-08)\n",
            "0.4433059116275035\n",
            "Episode  840 :  reward : 0.0882775096981786 eps:  0.07911582018047386  loss: tensor(9.2957e-09)\n",
            "0.1240110152753687\n",
            "Episode  850 :  reward : 0.10454728165165228 eps:  0.0767741324879028  loss: tensor(1.3249e-09)\n",
            "0.27294082196429076\n",
            "Episode  860 :  reward : 0.19915235445877905 eps:  0.07450175458997244  loss: tensor(7.0291e-08)\n",
            "0.15609960150873875\n",
            "Episode  870 :  reward : 0.5628509192398148 eps:  0.07229663503992138  loss: tensor(7.6919e-08)\n",
            "0.7079592756389241\n",
            "Episode  880 :  reward : 0.07063198917519575 eps:  0.07015678311016703  loss: tensor(1.3108e-08)\n",
            "0.12258590830649711\n",
            "Episode  890 :  reward : 0.020663837484324314 eps:  0.06808026699512584  loss: tensor(6.2295e-09)\n",
            "0.27569654118675413\n",
            "Episode  900 :  reward : 0.004191248976473074 eps:  0.0660652120672268  loss: tensor(1.7221e-08)\n",
            "0.2808507732159313\n",
            "Episode  910 :  reward : 0.03924731850173159 eps:  0.06410979918454389  loss: tensor(6.3546e-08)\n",
            "0.09472445457833856\n",
            "Episode  920 :  reward : 0.12795421735355295 eps:  0.0622122630485196  loss: tensor(1.4397e-08)\n",
            "0.07987360207903123\n",
            "Episode  930 :  reward : 0.04734644100337713 eps:  0.06037089061029686  loss: tensor(7.9523e-09)\n",
            "0.08140699328005897\n",
            "Episode  940 :  reward : 0.2182722640393738 eps:  0.05858401952422075  loss: tensor(7.3679e-08)\n",
            "0.2785641937503244\n",
            "Episode  950 :  reward : 0.20955210380695732 eps:  0.056850036647113855  loss: tensor(3.0423e-08)\n",
            "0.08818456615985645\n",
            "Episode  960 :  reward : -0.03946787532896424 eps:  0.05516737658197032  loss: tensor(1.5047e-08)\n",
            "0.25823256562386054\n",
            "Episode  970 :  reward : 0.16887206913883918 eps:  0.05353452026475406  loss: tensor(3.4365e-07)\n",
            "0.11654685657885719\n",
            "Episode  980 :  reward : 0.2021268301333068 eps:  0.05194999359302514  loss: tensor(6.4811e-08)\n",
            "0.24687682660990423\n",
            "Episode  990 :  reward : 0.04746490150434769 eps:  0.050412366095156445  loss: tensor(9.2139e-09)\n",
            "0.16256457831017912\n",
            "Complete\n"
          ]
        }
      ]
    },
    {
      "cell_type": "code",
      "source": [
        "if doubledqn == False and duelingdqn == False:\n",
        "  totalrewardqn =rewards_history\n",
        "  totallossdqn = loss_history\n",
        "if doubledqn == False and duelingdqn == True:\n",
        "  totalrewardueldqn =rewards_history\n",
        "  totallossduelqn = loss_history\n",
        "if doubledqn == True and duelingdqn == False:\n",
        "  totalrewarddqn =rewards_history\n",
        "  totallossddqn = loss_history\n",
        "if doubledqn == True and duelingdqn == False:\n",
        "  totalrewardddqn =rewards_history\n",
        "  totallossdddqn = loss_history"
      ],
      "metadata": {
        "id": "rI_WkapXUnts"
      },
      "execution_count": 56,
      "outputs": []
    },
    {
      "cell_type": "code",
      "source": [
        "plt.plot( totalrewardqn, label = 'Dqn')   \n",
        "plt.plot( totalrewardueldqn, label = 'Dqn+Duel')   \n",
        "plt.plot( totalrewarddqn, label = 'Dqn + Double')   \n",
        "totalrewarddqn\n",
        "plt.title('Mean Reward per Episode')\n",
        "plt.legend()\n",
        "plt.show()\n"
      ],
      "metadata": {
        "id": "cLwUPGSBTxxH",
        "colab": {
          "base_uri": "https://localhost:8080/",
          "height": 281
        },
        "outputId": "8b9cafc1-f279-43f8-95f9-998add294b99"
      },
      "execution_count": 58,
      "outputs": [
        {
          "output_type": "display_data",
          "data": {
            "text/plain": [
              "<Figure size 432x288 with 1 Axes>"
            ],
            "image/png": "[encoded data removed]"
          },
          "metadata": {
            "needs_background": "light"
          }
        }
      ]
    },
    {
      "cell_type": "code",
      "source": [
        "plt.plot( totallossdqn, label = 'Dqn')   \n",
        "plt.plot( totallossduelqn, label = 'Dqn+Duel')   \n",
        "plt.plot( totalrewarddqn, label = 'Dqn + Double')   \n",
        "totalrewarddqn\n",
        "plt.title('Loss per Episode')\n",
        "plt.legend()\n",
        "plt.show()"
      ],
      "metadata": {
        "colab": {
          "base_uri": "https://localhost:8080/",
          "height": 281
        },
        "id": "4JdH9TZiQ6S2",
        "outputId": "c17135d2-d754-4185-edbd-8cdf09c600aa"
      },
      "execution_count": 59,
      "outputs": [
        {
          "output_type": "display_data",
          "data": {
            "text/plain": [
              "<Figure size 432x288 with 1 Axes>"
            ],
            "image/png": "[encoded data removed]"
          },
          "metadata": {
            "needs_background": "light"
          }
        }
      ]
    },
    {
      "cell_type": "code",
      "source": [
        "policy.epsilon"
      ],
      "metadata": {
        "id": "IIHqVO79702n",
        "colab": {
          "base_uri": "https://localhost:8080/"
        },
        "outputId": "e66d9379-cc3c-4cd7-e0f6-50cbbc541826"
      },
      "execution_count": null,
      "outputs": [
        {
          "output_type": "execute_result",
          "data": {
            "text/plain": [
              "0.98703"
            ]
          },
          "metadata": {},
          "execution_count": 30
        }
      ]
    }
  ]
}